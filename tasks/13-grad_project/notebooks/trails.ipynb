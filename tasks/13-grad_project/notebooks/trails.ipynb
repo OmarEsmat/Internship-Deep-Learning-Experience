{
 "cells": [
  {
   "cell_type": "code",
   "execution_count": 1,
   "metadata": {},
   "outputs": [
    {
     "name": "stdout",
     "output_type": "stream",
     "text": [
      "PyTorch version: 2.5.1+cu118\n",
      "CUDA available: True\n"
     ]
    }
   ],
   "source": [
    "import torch\n",
    "print(\"PyTorch version:\", torch.__version__)\n",
    "print(\"CUDA available:\", torch.cuda.is_available())\n"
   ]
  },
  {
   "cell_type": "code",
   "execution_count": 3,
   "metadata": {},
   "outputs": [
    {
     "name": "stdout",
     "output_type": "stream",
     "text": [
      "Requirement already satisfied: altair in d:\\projects\\env\\torch_env\\lib\\site-packages (5.5.0)\n",
      "Collecting vega_datasets\n",
      "  Downloading vega_datasets-0.9.0-py3-none-any.whl (210 kB)\n",
      "Requirement already satisfied: typing-extensions>=4.10.0 in d:\\projects\\env\\torch_env\\lib\\site-packages (from altair) (4.12.2)\n",
      "Requirement already satisfied: jsonschema>=3.0 in d:\\projects\\env\\torch_env\\lib\\site-packages (from altair) (4.23.0)\n",
      "Requirement already satisfied: jinja2 in d:\\projects\\env\\torch_env\\lib\\site-packages (from altair) (3.1.3)\n",
      "Requirement already satisfied: narwhals>=1.14.2 in d:\\projects\\env\\torch_env\\lib\\site-packages (from altair) (1.27.1)\n",
      "Requirement already satisfied: packaging in d:\\projects\\env\\torch_env\\lib\\site-packages (from altair) (24.2)\n",
      "Requirement already satisfied: pandas in d:\\projects\\env\\torch_env\\lib\\site-packages (from vega_datasets) (2.2.3)\n",
      "Requirement already satisfied: attrs>=22.2.0 in d:\\projects\\env\\torch_env\\lib\\site-packages (from jsonschema>=3.0->altair) (25.1.0)\n",
      "Requirement already satisfied: jsonschema-specifications>=2023.03.6 in d:\\projects\\env\\torch_env\\lib\\site-packages (from jsonschema>=3.0->altair) (2024.10.1)\n",
      "Requirement already satisfied: rpds-py>=0.7.1 in d:\\projects\\env\\torch_env\\lib\\site-packages (from jsonschema>=3.0->altair) (0.23.1)\n",
      "Requirement already satisfied: referencing>=0.28.4 in d:\\projects\\env\\torch_env\\lib\\site-packages (from jsonschema>=3.0->altair) (0.36.2)\n",
      "Requirement already satisfied: MarkupSafe>=2.0 in d:\\projects\\env\\torch_env\\lib\\site-packages (from jinja2->altair) (2.1.5)\n",
      "Requirement already satisfied: pytz>=2020.1 in d:\\projects\\env\\torch_env\\lib\\site-packages (from pandas->vega_datasets) (2025.1)\n",
      "Requirement already satisfied: tzdata>=2022.7 in d:\\projects\\env\\torch_env\\lib\\site-packages (from pandas->vega_datasets) (2025.1)\n",
      "Requirement already satisfied: python-dateutil>=2.8.2 in d:\\projects\\env\\torch_env\\lib\\site-packages (from pandas->vega_datasets) (2.9.0.post0)\n",
      "Requirement already satisfied: numpy>=1.22.4 in d:\\projects\\env\\torch_env\\lib\\site-packages (from pandas->vega_datasets) (1.26.3)\n",
      "Requirement already satisfied: six>=1.5 in d:\\projects\\env\\torch_env\\lib\\site-packages (from python-dateutil>=2.8.2->pandas->vega_datasets) (1.17.0)\n",
      "Installing collected packages: vega-datasets\n",
      "Successfully installed vega-datasets-0.9.0\n"
     ]
    }
   ],
   "source": [
    "!pip install --upgrade altair vega_datasets\n",
    "\n"
   ]
  },
  {
   "cell_type": "code",
   "execution_count": null,
   "metadata": {},
   "outputs": [],
   "source": []
  }
 ],
 "metadata": {
  "kernelspec": {
   "display_name": "torch_env",
   "language": "python",
   "name": "torch_env"
  },
  "language_info": {
   "codemirror_mode": {
    "name": "ipython",
    "version": 3
   },
   "file_extension": ".py",
   "mimetype": "text/x-python",
   "name": "python",
   "nbconvert_exporter": "python",
   "pygments_lexer": "ipython3",
   "version": "3.9.7"
  }
 },
 "nbformat": 4,
 "nbformat_minor": 2
}
